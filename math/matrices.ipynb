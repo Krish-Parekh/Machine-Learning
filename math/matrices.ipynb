{
 "cells": [
  {
   "cell_type": "code",
   "execution_count": 1,
   "metadata": {},
   "outputs": [],
   "source": [
    "import numpy as np"
   ]
  },
  {
   "cell_type": "code",
   "execution_count": 38,
   "metadata": {},
   "outputs": [],
   "source": [
    "class Math:\n",
    "\n",
    "    def matrix_addition(self, matrix1: np.ndarray, matrix2: np.ndarray) -> np.ndarray:\n",
    "        matrix1_rows, matrix1_columns = matrix1.shape\n",
    "        matrix2_rows, matrix2_columns = matrix2.shape\n",
    "        if matrix1_rows != matrix2_rows or matrix1_columns != matrix2_columns:\n",
    "            raise ValueError(\"Matrix addition is not possible\")\n",
    "        result = np.zeros((matrix1_rows, matrix1_columns))\n",
    "        for i in range(matrix1_rows):\n",
    "            for j in range(matrix1_columns):\n",
    "                result[i][j] = matrix1[i][j] + matrix2[i][j]\n",
    "        return result\n",
    "    \n",
    "    def matrix_subtraction(self, matrix1: np.ndarray, matrix2: np.ndarray) -> np.ndarray:\n",
    "        matrix1_rows, matrix1_columns = matrix1.shape\n",
    "        matrix2_rows, matrix2_columns = matrix2.shape\n",
    "        if matrix1_rows != matrix2_rows or matrix1_columns != matrix2_columns:\n",
    "            raise ValueError(\"Matrix subtraction is not possible\")\n",
    "        result = np.zeros((matrix1_rows, matrix1_columns))\n",
    "        for i in range(matrix1_rows):\n",
    "            for j in range(matrix1_columns):\n",
    "                result[i][j] = matrix1[i][j] - matrix2[i][j]\n",
    "        return result\n",
    "    \n",
    "    def matrix_multiplication(self, matrix1: np.ndarray, matrix2: np.ndarray) -> np.ndarray:\n",
    "        matrix1_rows, matrix1_columns = matrix1.shape\n",
    "        matrix2_rows, matrix2_columns = matrix2.shape\n",
    "        if matrix1_columns != matrix2_rows:\n",
    "            raise ValueError(\"Matrix multiplication is not possible\")\n",
    "        result = np.zeros((matrix1_rows, matrix2_columns))\n",
    "        for i in range(matrix1_rows):\n",
    "            for j in range(matrix2_columns):\n",
    "                for k in range(matrix2_rows):\n",
    "                    result[i][j] += matrix1[i][k] * matrix2[k][j]\n",
    "        return result\n",
    "\n",
    "    def matrix_transpose(self, matrix1: np.ndarray) -> np.ndarray:\n",
    "        matrix1_rows, matrix1_columns = matrix1.shape\n",
    "        result = np.zeros((matrix1_columns, matrix1_rows))\n",
    "        for i in range(matrix1_rows):\n",
    "            for j in range(matrix1_columns):\n",
    "                result[j][i] = matrix1[i][j]\n",
    "        return result\n",
    "    \n",
    "    def matrix_scalar_multiplication(self, matrix1: np.ndarray, scalar: int) -> np.ndarray:\n",
    "        matrix1_rows, matrix1_columns = matrix1.shape\n",
    "        result = np.zeros((matrix1_rows, matrix1_columns))\n",
    "        for i in range(matrix1_rows):\n",
    "            for j in range(matrix1_columns):\n",
    "                result[i][j] = matrix1[i][j] * scalar\n",
    "        return result\n",
    "    \n"
   ]
  },
  {
   "cell_type": "code",
   "execution_count": 42,
   "metadata": {},
   "outputs": [],
   "source": [
    "matrix1 = np.array([[1, 2, 3], [4, 5, 6]])  \n",
    "matrix2 = np.array([[7, 8, 9], [10, 11, 12]])\n",
    "matrix3 = np.array([[1, 2], [3, 4], [5, 6]])\n",
    "\n",
    "math = Math()\n",
    "result = math.matrix_transpose(matrix3)"
   ]
  },
  {
   "cell_type": "code",
   "execution_count": 43,
   "metadata": {},
   "outputs": [
    {
     "data": {
      "text/plain": [
       "array([[1., 3., 5.],\n",
       "       [2., 4., 6.]])"
      ]
     },
     "execution_count": 43,
     "metadata": {},
     "output_type": "execute_result"
    }
   ],
   "source": [
    "result"
   ]
  },
  {
   "cell_type": "code",
   "execution_count": null,
   "metadata": {},
   "outputs": [],
   "source": []
  }
 ],
 "metadata": {
  "kernelspec": {
   "display_name": "Python 3",
   "language": "python",
   "name": "python3"
  },
  "language_info": {
   "codemirror_mode": {
    "name": "ipython",
    "version": 3
   },
   "file_extension": ".py",
   "mimetype": "text/x-python",
   "name": "python",
   "nbconvert_exporter": "python",
   "pygments_lexer": "ipython3",
   "version": "3.11.4"
  }
 },
 "nbformat": 4,
 "nbformat_minor": 2
}
