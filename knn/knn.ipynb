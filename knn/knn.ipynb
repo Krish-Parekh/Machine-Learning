{
 "cells": [
  {
   "cell_type": "code",
   "execution_count": null,
   "metadata": {},
   "outputs": [],
   "source": [
    "import pandas as pd\n",
    "import numpy as np\n",
    "import matplotlib.pyplot as plt\n",
    "from collections import Counter\n",
    "from sklearn.datasets import load_iris\n",
    "from sklearn.model_selection import train_test_split\n",
    "from sklearn.neighbors import KNeighborsClassifier\n",
    "from sklearn.metrics import accuracy_score, confusion_matrix"
   ]
  },
  {
   "cell_type": "code",
   "execution_count": null,
   "metadata": {},
   "outputs": [],
   "source": [
    "class CustomKNN:\n",
    "    def __init__(self, k=3):\n",
    "        self.k = k\n",
    "    \n",
    "    def _eculidean_distance(self, x1: float, x2: float):\n",
    "        return np.sqrt(np.sum((x1 - x2)**2))\n",
    "\n",
    "    def fit(self, x_train: np.ndarray, y_train: np.ndarray):\n",
    "        self.x_train = x_train\n",
    "        self.y_train = y_train\n",
    "    \n",
    "    def predict(self, x_test: np.ndarray):\n",
    "        predictions = [self._predict(x) for x in x_test]\n",
    "        return np.array(predictions)\n",
    "\n",
    "    def _predict(self, x_test_value: float):\n",
    "        # compute the distances\n",
    "        distances = [self._eculidean_distance(x_test_value, x_train_value) for x_train_value in self.x_train]\n",
    "\n",
    "        # sort the distances\n",
    "        k_indices = np.argsort(distances)[:self.k]\n",
    "\n",
    "        # get the k nearest neighbors\n",
    "        k_nearest_labels = [self.y_train[i] for i in k_indices]\n",
    "\n",
    "        # return the most common class label\n",
    "        counter = Counter(k_nearest_labels)\n",
    "        most_common = counter.most_common()[0][0]\n",
    "        return most_common"
   ]
  },
  {
   "cell_type": "code",
   "execution_count": null,
   "metadata": {},
   "outputs": [],
   "source": [
    "iris = load_iris()\n",
    "x, y = iris.data, iris.target\n",
    "x_train, x_test, y_train, y_test = train_test_split(x, y, test_size=0.2, random_state=42)"
   ]
  },
  {
   "cell_type": "code",
   "execution_count": null,
   "metadata": {},
   "outputs": [],
   "source": [
    "model = KNeighborsClassifier(n_neighbors=5)\n",
    "custom_model = CustomKNN(k=5)\n",
    "model.fit(x_train, y_train)\n",
    "custom_model.fit(x_train, y_train)\n",
    "model_predictions = model.predict(x_test)\n",
    "custom_model_predictions = custom_model.predict(x_test)"
   ]
  },
  {
   "cell_type": "code",
   "execution_count": null,
   "metadata": {},
   "outputs": [],
   "source": [
    "print(\"Custom Model Predictions: \")\n",
    "print(\"Accuracy Score: \", accuracy_score(y_test, custom_model_predictions))\n",
    "print(\"Confusion Matrix: \\n\", confusion_matrix(y_test, custom_model_predictions))\n",
    "\n",
    "print(\"\\nSklearn Model Predictions: \")\n",
    "print(\"Accuracy Score: \", accuracy_score(y_test, model_predictions))\n",
    "print(\"Confusion Matrix: \\n\", confusion_matrix(y_test, model_predictions))"
   ]
  }
 ],
 "metadata": {
  "kernelspec": {
   "display_name": "Python 3",
   "language": "python",
   "name": "python3"
  },
  "language_info": {
   "codemirror_mode": {
    "name": "ipython",
    "version": 3
   },
   "file_extension": ".py",
   "mimetype": "text/x-python",
   "name": "python",
   "nbconvert_exporter": "python",
   "pygments_lexer": "ipython3",
   "version": "3.11.4"
  }
 },
 "nbformat": 4,
 "nbformat_minor": 2
}
