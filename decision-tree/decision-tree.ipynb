{
 "cells": [
  {
   "cell_type": "code",
   "execution_count": 34,
   "metadata": {},
   "outputs": [],
   "source": [
    "import numpy as np\n",
    "import pandas as pd\n",
    "import matplotlib.pyplot as plt\n",
    "from collections import Counter\n",
    "from sklearn.datasets import load_breast_cancer\n",
    "from sklearn.tree import DecisionTreeClassifier\n",
    "from sklearn.metrics import confusion_matrix\n",
    "from sklearn.model_selection import train_test_split"
   ]
  },
  {
   "cell_type": "code",
   "execution_count": 35,
   "metadata": {},
   "outputs": [],
   "source": [
    "class Node: \n",
    "    def __init__(self, feature=None, threshold=None, left=None, right=None, *, value=None) -> None:\n",
    "        self.feature = feature\n",
    "        self.threshold = threshold\n",
    "        self.left = left\n",
    "        self.right = right\n",
    "        self.value = value\n",
    "    \n",
    "    def is_leaf_node(self):\n",
    "        return self.value is not None\n",
    "\n",
    "class CustomDecisionTree:\n",
    "    def __init__(self, min_sample_split=2, max_depth=100, n_features=None) -> None:\n",
    "        self.min_samples_split = min_sample_split\n",
    "        self.max_depth = max_depth\n",
    "        self.n_features = n_features\n",
    "        self.root = None\n",
    "    \n",
    "    def _most_common_label(self, y: np.ndarray):\n",
    "        counter = Counter(y)\n",
    "        value = counter.most_common(1)[0][0]\n",
    "        return value\n",
    "\n",
    "    def _entropy(self, y: np.ndarray):\n",
    "        hist = np.bincount(y)\n",
    "        ps = hist / len(y)\n",
    "        return -np.sum([p * np.log2(p) for p in ps if p > 0])\n",
    "\n",
    "    def _split(self, x_column: np.ndarray, threshold):\n",
    "        left_idxs = np.argwhere(x_column <= threshold).flatten()\n",
    "        right_idxs = np.argwhere(x_column > threshold).flatten()\n",
    "        return left_idxs, right_idxs\n",
    "\n",
    "    def _information_gain(self, y: np.ndarray, x_column: np.ndarray, threshold):\n",
    "        parent_entropy = self._entropy(y)\n",
    "\n",
    "        left_idxs, right_idxs = self._split(x_column, threshold)\n",
    "        if len(left_idxs) == 0 or len(right_idxs) == 0:\n",
    "            return 0\n",
    "        \n",
    "        n = len(y)\n",
    "        n_l, n_r = len(left_idxs), len(right_idxs)\n",
    "        e_l, e_r = self._entropy(y[left_idxs]), self._entropy(y[right_idxs])\n",
    "        child_entropy = (n_l / n) * e_l + (n_r / n) * e_r\n",
    "        \n",
    "        ig = parent_entropy - child_entropy\n",
    "        return ig\n",
    "\n",
    "    def _best_split(self, x: np.ndarray, y: np.ndarray, feat_idxs: np.ndarray):\n",
    "        best_gain = -1\n",
    "        split_idx, split_threshold = None, None\n",
    "\n",
    "        for feat_idx in feat_idxs:\n",
    "            x_column = x[:, feat_idx]\n",
    "            thresholds = np.unique(x_column)\n",
    "            for threshold in thresholds:\n",
    "                gain = self._information_gain(y, x_column, threshold)\n",
    "                if gain > best_gain:\n",
    "                    best_gain = gain\n",
    "                    split_idx = feat_idx\n",
    "                    split_threshold = threshold\n",
    "\n",
    "        return split_idx, split_threshold\n",
    "\n",
    "    def _grow_tree(self, x: np.ndarray, y: np.ndarray, depth: int=0):\n",
    "        n_samples, n_features = x.shape\n",
    "        n_labels = len(np.unique(y))\n",
    "        \n",
    "        # Check the stopping criteria\n",
    "        if(depth >= self.max_depth or n_labels == 1 or n_samples < self.min_samples_split):\n",
    "            leaf_value = self._most_common_label(y)\n",
    "            return Node(value=leaf_value)\n",
    "        \n",
    "        # Find the best splits\n",
    "        feat_idxs = np.random.choice(n_features, self.n_features, replace=False)\n",
    "        best_feat, best_thresh = self._best_split(x, y, feat_idxs)\n",
    "        \n",
    "        # Create child nodes\n",
    "        left_idxs, right_idxs = self._split(x[:, best_feat], best_thresh)\n",
    "        \n",
    "        # Repeat for child nodes\n",
    "        left = self._grow_tree(x[left_idxs, :], y[left_idxs], depth+1)\n",
    "        right = self._grow_tree(x[right_idxs, :], y[right_idxs], depth+1)\n",
    "        return Node(best_feat, best_thresh, left, right)\n",
    "\n",
    "    def fit(self, x: np.ndarray, y: np.ndarray):\n",
    "        self.n_features = x.shape[1] if not self.n_features else min(self.n_features, x.shape[1])\n",
    "        self.root = self._grow_tree(x, y)\n",
    "    \n",
    "    def _traverse_tree(self, x, node: Node):\n",
    "        if node.is_leaf_node():\n",
    "            return node.value\n",
    "        \n",
    "        if x[node.feature] <= node.threshold:\n",
    "            return self._traverse_tree(x, node.left)\n",
    "        return self._traverse_tree(x, node.right)\n",
    "\n",
    "    def predict(self, X: np.ndarray):\n",
    "        return np.array([self._traverse_tree(x, self.root) for x in X])"
   ]
  },
  {
   "cell_type": "code",
   "execution_count": 43,
   "metadata": {},
   "outputs": [],
   "source": [
    "data = load_breast_cancer()\n",
    "x, y = data.data, data.target\n",
    "x_train, x_test, y_train, y_test = train_test_split(x, y, test_size=0.2, random_state=42)"
   ]
  },
  {
   "cell_type": "code",
   "execution_count": 44,
   "metadata": {},
   "outputs": [],
   "source": [
    "custom_model = CustomDecisionTree()\n",
    "model = DecisionTreeClassifier()\n",
    "model.fit(x_train, y_train)\n",
    "custom_model.fit(x_train, y_train)\n",
    "model_predictions = model.predict(x_test)\n",
    "custom_model_predictions = custom_model.predict(x_test)"
   ]
  },
  {
   "cell_type": "code",
   "execution_count": 45,
   "metadata": {},
   "outputs": [
    {
     "name": "stdout",
     "output_type": "stream",
     "text": [
      "Custom Decision Tree Classifier\n",
      "[[39  4]\n",
      " [ 4 67]]\n",
      "Sklearn Decision Tree Classifier\n",
      "[[40  3]\n",
      " [ 3 68]]\n"
     ]
    }
   ],
   "source": [
    "print(\"Custom Decision Tree Classifier\")\n",
    "print(confusion_matrix(y_test, custom_model_predictions))\n",
    "print(\"Sklearn Decision Tree Classifier\")\n",
    "print(confusion_matrix(y_test, model_predictions))"
   ]
  },
  {
   "cell_type": "code",
   "execution_count": null,
   "metadata": {},
   "outputs": [],
   "source": []
  }
 ],
 "metadata": {
  "kernelspec": {
   "display_name": "Python 3",
   "language": "python",
   "name": "python3"
  },
  "language_info": {
   "codemirror_mode": {
    "name": "ipython",
    "version": 3
   },
   "file_extension": ".py",
   "mimetype": "text/x-python",
   "name": "python",
   "nbconvert_exporter": "python",
   "pygments_lexer": "ipython3",
   "version": "3.11.4"
  }
 },
 "nbformat": 4,
 "nbformat_minor": 2
}
